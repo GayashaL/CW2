{
  "nbformat": 4,
  "nbformat_minor": 0,
  "metadata": {
    "colab": {
      "provenance": []
    },
    "kernelspec": {
      "name": "python3",
      "display_name": "Python 3"
    },
    "language_info": {
      "name": "python"
    }
  },
  "cells": [
    {
      "cell_type": "code",
      "execution_count": null,
      "metadata": {
        "id": "EhZBd5ot0Rih"
      },
      "outputs": [],
      "source": [
        "#import necessary libraries\n",
        "import pandas as pd"
      ]
    },
    {
      "cell_type": "code",
      "source": [
        "#Read csv file\n",
        "df= pd.read_csv(\"/content/drive/MyDrive/CW2 DSPL/Dataset DSPL CW2.csv\")"
      ],
      "metadata": {
        "id": "IdzhLIKG1aax"
      },
      "execution_count": 2,
      "outputs": []
    },
    {
      "cell_type": "code",
      "source": [
        "# Remove the first row (which contains metadata, not actual data)\n",
        "df = df.iloc[1:].reset_index(drop=True)"
      ],
      "metadata": {
        "id": "fuUlKDnS5-ac"
      },
      "execution_count": 3,
      "outputs": []
    },
    {
      "cell_type": "code",
      "source": [
        "# Drop rows with missing essential information\n",
        "df = df.dropna(subset=['Country Name', 'Series Name'])"
      ],
      "metadata": {
        "id": "8dgSsjk06FB6"
      },
      "execution_count": 5,
      "outputs": []
    },
    {
      "cell_type": "code",
      "source": [
        "df_long = df.melt(\n",
        "    id_vars=['Country Name', 'Series Name'],\n",
        "    value_vars=[col for col in df.columns if '[YR' in col],\n",
        "    var_name='Year',\n",
        "    value_name='Value'\n",
        ")"
      ],
      "metadata": {
        "id": "GVf158zl6JQJ"
      },
      "execution_count": 6,
      "outputs": []
    },
    {
      "cell_type": "code",
      "source": [
        "# Extract numeric year from column name like '1960 [YR1960]'\n",
        "df_long['Year'] = df_long['Year'].str.extract(r'(\\d{4})').astype(float)\n"
      ],
      "metadata": {
        "id": "ge19cX5D7E5W"
      },
      "execution_count": 7,
      "outputs": []
    },
    {
      "cell_type": "code",
      "source": [
        "# Convert Value to numeric (some are '..' as string)\n",
        "df_long['Value'] = pd.to_numeric(df_long['Value'], errors='coerce')\n"
      ],
      "metadata": {
        "id": "5-CtseBk7HSc"
      },
      "execution_count": 8,
      "outputs": []
    },
    {
      "cell_type": "code",
      "source": [
        "# Drop rows with missing year or value\n",
        "df_long = df_long.dropna(subset=['Year', 'Value'])\n"
      ],
      "metadata": {
        "id": "HEsXJQ3z7Jvj"
      },
      "execution_count": 9,
      "outputs": []
    },
    {
      "cell_type": "code",
      "source": [
        "# Reset index\n",
        "df_long = df_long.reset_index(drop=True)\n",
        "\n",
        "# Display cleaned data\n",
        "print(df_long.info())\n",
        "print(df_long.head())"
      ],
      "metadata": {
        "colab": {
          "base_uri": "https://localhost:8080/"
        },
        "id": "8ZOoEYvw7Lk2",
        "outputId": "64c6fe48-6f0d-4f32-e8b0-08a26f6b5db8"
      },
      "execution_count": 10,
      "outputs": [
        {
          "output_type": "stream",
          "name": "stdout",
          "text": [
            "<class 'pandas.core.frame.DataFrame'>\n",
            "RangeIndex: 44173 entries, 0 to 44172\n",
            "Data columns (total 4 columns):\n",
            " #   Column        Non-Null Count  Dtype  \n",
            "---  ------        --------------  -----  \n",
            " 0   Country Name  44173 non-null  object \n",
            " 1   Series Name   44173 non-null  object \n",
            " 2   Year          44173 non-null  float64\n",
            " 3   Value         44173 non-null  float64\n",
            "dtypes: float64(2), object(2)\n",
            "memory usage: 1.3+ MB\n",
            "None\n",
            "  Country Name                                        Series Name    Year  \\\n",
            "0    Sri Lanka  Agriculture, forestry, and fishing, value adde...  1960.0   \n",
            "1    Sri Lanka           Exports of goods and services (% of GDP)  1960.0   \n",
            "2    Sri Lanka           Fertility rate, total (births per woman)  1960.0   \n",
            "3    Sri Lanka                                  GDP (current US$)  1960.0   \n",
            "4    Sri Lanka                 Gross capital formation (% of GDP)  1960.0   \n",
            "\n",
            "          Value  \n",
            "0  3.210420e+01  \n",
            "1  2.995325e+01  \n",
            "2  5.352000e+00  \n",
            "3  1.409874e+09  \n",
            "4  1.420657e+01  \n"
          ]
        }
      ]
    },
    {
      "cell_type": "code",
      "source": [
        "# Save the Preprocessed data to a new CSV file\n",
        "df.to_csv(\"preprocessed_dataset.csv\", index=False)"
      ],
      "metadata": {
        "id": "a4-qNlvM7OAX"
      },
      "execution_count": 11,
      "outputs": []
    },
    {
      "cell_type": "code",
      "source": [],
      "metadata": {
        "id": "wM78u9Ce7YiI"
      },
      "execution_count": null,
      "outputs": []
    }
  ]
}